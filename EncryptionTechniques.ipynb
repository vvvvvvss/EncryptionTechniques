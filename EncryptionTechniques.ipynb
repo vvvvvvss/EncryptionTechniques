{
  "nbformat": 4,
  "nbformat_minor": 0,
  "metadata": {
    "colab": {
      "provenance": [],
      "authorship_tag": "ABX9TyMFLu1OZYldYGgXhcyqWxxD",
      "include_colab_link": true
    },
    "kernelspec": {
      "name": "python3",
      "display_name": "Python 3"
    },
    "language_info": {
      "name": "python"
    }
  },
  "cells": [
    {
      "cell_type": "markdown",
      "metadata": {
        "id": "view-in-github",
        "colab_type": "text"
      },
      "source": [
        "<a href=\"https://colab.research.google.com/github/vvvvvvss/EncryptionTechniques/blob/main/EncryptionTechniques.ipynb\" target=\"_parent\"><img src=\"https://colab.research.google.com/assets/colab-badge.svg\" alt=\"Open In Colab\"/></a>"
      ]
    },
    {
      "cell_type": "code",
      "source": [
        "pip install pycryptodome\n"
      ],
      "metadata": {
        "colab": {
          "base_uri": "https://localhost:8080/"
        },
        "id": "cPIn0mvb8Wjv",
        "outputId": "3decf360-b8c4-4516-bdf6-1fe1e01c9a6f"
      },
      "execution_count": 3,
      "outputs": [
        {
          "output_type": "stream",
          "name": "stdout",
          "text": [
            "Collecting pycryptodome\n",
            "  Downloading pycryptodome-3.20.0-cp35-abi3-manylinux_2_17_x86_64.manylinux2014_x86_64.whl.metadata (3.4 kB)\n",
            "Downloading pycryptodome-3.20.0-cp35-abi3-manylinux_2_17_x86_64.manylinux2014_x86_64.whl (2.1 MB)\n",
            "\u001b[2K   \u001b[90m━━━━━━━━━━━━━━━━━━━━━━━━━━━━━━━━━━━━━━━━\u001b[0m \u001b[32m2.1/2.1 MB\u001b[0m \u001b[31m7.8 MB/s\u001b[0m eta \u001b[36m0:00:00\u001b[0m\n",
            "\u001b[?25hInstalling collected packages: pycryptodome\n",
            "Successfully installed pycryptodome-3.20.0\n"
          ]
        }
      ]
    },
    {
      "cell_type": "code",
      "execution_count": 4,
      "metadata": {
        "id": "Dhv0eTYU25-E"
      },
      "outputs": [],
      "source": [
        "from Crypto.Cipher import AES\n",
        "from Crypto.Random import get_random_bytes\n",
        "import base64\n"
      ]
    },
    {
      "cell_type": "code",
      "source": [
        "def pad(s):\n",
        "    block_size = AES.block_size\n",
        "    padding_size = block_size - len(s) % block_size\n",
        "    padding = chr(padding_size) * padding_size\n",
        "    return s + padding\n"
      ],
      "metadata": {
        "id": "1HBF0G5O8KEN"
      },
      "execution_count": 5,
      "outputs": []
    },
    {
      "cell_type": "code",
      "source": [
        "def unpad(s):\n",
        "    padding_size = ord(s[-1])\n",
        "    return s[:-padding_size]\n",
        "\n"
      ],
      "metadata": {
        "id": "bfANUpul8OkE"
      },
      "execution_count": 6,
      "outputs": []
    },
    {
      "cell_type": "code",
      "source": [
        "def encrypt_message(message, key):\n",
        "    key = key.ljust(32)[:32].encode('utf-8')\n",
        "    iv = get_random_bytes(AES.block_size)\n",
        "    cipher = AES.new(key, AES.MODE_CBC, iv)\n",
        "    padded_message = pad(message)\n",
        "    encrypted_bytes = cipher.encrypt(padded_message.encode('utf-8'))\n",
        "    return base64.b64encode(iv + encrypted_bytes).decode('utf-8')\n"
      ],
      "metadata": {
        "id": "UXcNT_zC8fJa"
      },
      "execution_count": 7,
      "outputs": []
    },
    {
      "cell_type": "code",
      "source": [
        "\n",
        "def decrypt_message(encrypted_message, key):\n",
        "    key = key.ljust(32)[:32].encode('utf-8')\n",
        "    encrypted_bytes = base64.b64decode(encrypted_message)\n",
        "    iv = encrypted_bytes[:AES.block_size]\n",
        "    encrypted_message_bytes = encrypted_bytes[AES.block_size:]\n",
        "    cipher = AES.new(key, AES.MODE_CBC, iv)\n",
        "    decrypted_padded_message = cipher.decrypt(encrypted_message_bytes).decode('utf-8')\n",
        "    decrypted_message = unpad(decrypted_padded_message)\n",
        "    return decrypted_message\n",
        "\n"
      ],
      "metadata": {
        "id": "6Y_6_7BH8tui"
      },
      "execution_count": 8,
      "outputs": []
    },
    {
      "cell_type": "code",
      "source": [
        "if __name__ == '__main__':\n",
        "    message = \"Hello, this is a secret message!\"\n",
        "    key = \"mysecretpassword\"\n",
        "\n",
        "    encrypted_message = encrypt_message(message, key)\n",
        "    print(f\"Encrypted message: {encrypted_message}\")\n",
        "\n",
        "    decrypted_message = decrypt_message(encrypted_message, key)\n",
        "    print(f\"Decrypted message: {decrypted_message}\")"
      ],
      "metadata": {
        "colab": {
          "base_uri": "https://localhost:8080/"
        },
        "id": "UwNfVKII83yp",
        "outputId": "9f692373-bd11-4016-96cd-994b2ea5c3f5"
      },
      "execution_count": 9,
      "outputs": [
        {
          "output_type": "stream",
          "name": "stdout",
          "text": [
            "Encrypted message: GqAuplDjJTHS/ZZ1bl/qqvfz+Uqbsw69iOJpogqPxorQM5T9wwtuuhJVKkmEUDXIyWkIk0vfr6nbk3DeH4eYyQ==\n",
            "Decrypted message: Hello, this is a secret message!\n"
          ]
        }
      ]
    },
    {
      "cell_type": "code",
      "source": [],
      "metadata": {
        "id": "y5WFUxWS85ha"
      },
      "execution_count": null,
      "outputs": []
    }
  ]
}